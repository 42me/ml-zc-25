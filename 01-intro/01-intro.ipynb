{
 "cells": [
  {
   "cell_type": "code",
   "execution_count": 80,
   "id": "0fcbc7ef-dbf4-4920-abf5-9ff3b13f89b5",
   "metadata": {},
   "outputs": [],
   "source": [
    "import pandas as pd\n",
    "import numpy as np\n",
    "from numpy.linalg import inv"
   ]
  },
  {
   "cell_type": "code",
   "execution_count": 81,
   "id": "228d2e89-1345-4052-9a17-7de118b9a888",
   "metadata": {},
   "outputs": [
    {
     "name": "stdout",
     "output_type": "stream",
     "text": [
      "2.3.2\n"
     ]
    }
   ],
   "source": [
    "# Q1. Pandas version\n",
    "print(pd.__version__)"
   ]
  },
  {
   "cell_type": "code",
   "execution_count": 82,
   "id": "e8f9de7b-61be-4a37-b974-b8850e60c006",
   "metadata": {},
   "outputs": [],
   "source": [
    "# load data \n",
    "data = pd.read_csv('https://raw.githubusercontent.com/alexeygrigorev/datasets/master/car_fuel_efficiency.csv')"
   ]
  },
  {
   "cell_type": "code",
   "execution_count": 83,
   "id": "fed29297-34a4-468b-a8b5-499f01a7add7",
   "metadata": {},
   "outputs": [],
   "source": [
    "# print(data.head())"
   ]
  },
  {
   "cell_type": "code",
   "execution_count": 84,
   "id": "eb799c67-5e65-40ff-8894-c82f8ba96e9c",
   "metadata": {},
   "outputs": [
    {
     "name": "stdout",
     "output_type": "stream",
     "text": [
      "Number of records: 9704\n"
     ]
    }
   ],
   "source": [
    "# Q2. Records count\n",
    "record_count = len(data)\n",
    "print(f\"Number of records: {record_count}\")"
   ]
  },
  {
   "cell_type": "code",
   "execution_count": 85,
   "id": "844e4abe-2e88-47ff-8d33-ae3eb804787a",
   "metadata": {},
   "outputs": [
    {
     "name": "stdout",
     "output_type": "stream",
     "text": [
      "Number of fuel types: 2\n"
     ]
    }
   ],
   "source": [
    "# Q3. Fuel types\n",
    "num_fuel_types = data['fuel_type'].nunique()\n",
    "print(f\"Number of fuel types: {num_fuel_types}\")"
   ]
  },
  {
   "cell_type": "code",
   "execution_count": 86,
   "id": "b99dadc1-00d9-44dc-b5dd-d5c845f940ed",
   "metadata": {},
   "outputs": [
    {
     "name": "stdout",
     "output_type": "stream",
     "text": [
      "Number of columns with missing values: 4\n"
     ]
    }
   ],
   "source": [
    "# Q4. Missing values\n",
    "misses_count = data.isnull().sum()\n",
    "columns_with_misses = misses_count[misses_count > 0]\n",
    "num_columns_with_misses = len(columns_with_misses)\n",
    "print(f\"Number of columns with missing values: {num_columns_with_misses}\")"
   ]
  },
  {
   "cell_type": "code",
   "execution_count": 87,
   "id": "d3d9fa88-78de-4ff4-9233-f9594787d2f1",
   "metadata": {},
   "outputs": [
    {
     "name": "stdout",
     "output_type": "stream",
     "text": [
      "Maximum fuel efficiency of cars from Asia: 23.759122836520497\n"
     ]
    }
   ],
   "source": [
    "# Q5. Max fuel efficiency\n",
    "auto_from_asia = data.loc[data['origin'] == 'Asia']\n",
    "max_efficiency_auto_from_asia =  auto_from_asia['fuel_efficiency_mpg'].max()\n",
    "print(f\"Maximum fuel efficiency of cars from Asia: {max_efficiency_auto_from_asia}\")"
   ]
  },
  {
   "cell_type": "code",
   "execution_count": 88,
   "id": "8f228654-3927-4608-ad6e-1b44461a1f14",
   "metadata": {},
   "outputs": [
    {
     "name": "stdout",
     "output_type": "stream",
     "text": [
      "Median value of horsepower column: 149.0\n",
      "The most frequent value of horsepower: 152.0\n",
      "Updated median value of horsepower column: 152.0\n"
     ]
    }
   ],
   "source": [
    "# Q6. Median value of horsepower\n",
    "# Find the median value of horsepower column in the dataset.\n",
    "median_horsepower = data['horsepower'].median()\n",
    "print(f\"Median value of horsepower column: {median_horsepower}\")\n",
    "\n",
    "# The most frequent value of the same horsepower column.\n",
    "most_frequent_horsepower = data['horsepower'].mode()[0]\n",
    "print(f\"The most frequent value of horsepower: {most_frequent_horsepower}\")\n",
    "\n",
    "# Use fillna method to fill the missing values in horsepower column with the most frequent value from the previous step.\n",
    "data_filled_na_horsepower = data['horsepower'].fillna(most_frequent_horsepower)\n",
    "\n",
    "# The median value of horsepower after fill.\n",
    "new_median_horsepower = data_filled_na_horsepower.median()\n",
    "print(f\"Updated median value of horsepower column: {new_median_horsepower}\")\n",
    "\n",
    "# Has it changed?\n",
    "# Yes,  it increased"
   ]
  },
  {
   "cell_type": "code",
   "execution_count": 89,
   "id": "60779535-ed1f-4693-9ef1-67db67ebd240",
   "metadata": {},
   "outputs": [
    {
     "name": "stdout",
     "output_type": "stream",
     "text": [
      "Sum of all the elements : 0.5187709081074006\n"
     ]
    }
   ],
   "source": [
    "# Q7. Sum of weights\n",
    "# Select all the cars from Asia\n",
    "auto_from_asia = data.loc[data['origin'] == 'Asia']\n",
    "\n",
    "# Select only columns vehicle_weight and model_year\n",
    "auto_from_asia = auto_from_asia[['vehicle_weight', 'model_year']]\n",
    "\n",
    "# Select the first 7 values\n",
    "auto_from_asia_top = auto_from_asia.iloc[:7, :]\n",
    "\n",
    "# Get the underlying NumPy array. Let's call it X.\n",
    "x = auto_from_asia_top.to_numpy()\n",
    "\n",
    "# Compute matrix-matrix multiplication between the transpose of X and X. \n",
    "# To get the transpose, use X.T. Let's call the result XTX.\n",
    "xt = x.T\n",
    "xtx = np.dot(xt, x)\n",
    "\n",
    "# Invert XTX.\n",
    "inv_xtx = inv(xtx)\n",
    "\n",
    "# Create an array y with values [1100, 1300, 800, 900, 1000, 1100, 1200].\n",
    "y = np.array([1100, 1300, 800, 900, 1000, 1100, 1200])\n",
    "\n",
    "# Multiply the inverse of XTX with the transpose of X, and then multiply the result by y. \n",
    "# Call the result w.\n",
    "w = np.dot(np.dot(inv_xtx, xt), y)\n",
    "\n",
    "# What's the sum of all the elements of the result?\n",
    "print(f\"Sum of all the elements : {np.sum(w)}\")\n",
    "\n",
    "# Note: You just implemented linear regression. We'll talk about it in the next lesson.\n",
    "# 0.051\n",
    "# 0.51\n",
    "# 5.1\n",
    "# 51"
   ]
  },
  {
   "cell_type": "code",
   "execution_count": null,
   "id": "d3272c71-1f20-4437-bea3-3c21d9287cce",
   "metadata": {},
   "outputs": [],
   "source": []
  }
 ],
 "metadata": {
  "kernelspec": {
   "display_name": "Python 3 (ipykernel)",
   "language": "python",
   "name": "python3"
  },
  "language_info": {
   "codemirror_mode": {
    "name": "ipython",
    "version": 3
   },
   "file_extension": ".py",
   "mimetype": "text/x-python",
   "name": "python",
   "nbconvert_exporter": "python",
   "pygments_lexer": "ipython3",
   "version": "3.13.7"
  }
 },
 "nbformat": 4,
 "nbformat_minor": 5
}
